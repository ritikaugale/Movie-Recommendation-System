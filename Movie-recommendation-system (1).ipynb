{
 "cells": [
  {
   "cell_type": "code",
   "execution_count": 1,
   "id": "c3fd1916",
   "metadata": {},
   "outputs": [],
   "source": [
    "import pandas as pd\n",
    "import numpy as np"
   ]
  },
  {
   "cell_type": "code",
   "execution_count": 2,
   "id": "6aabaab7",
   "metadata": {},
   "outputs": [],
   "source": [
    "movies = pd.read_csv(\"tmdb_5000_movies.csv\")\n",
    "credits = pd.read_csv(\"tmdb_5000_credits.csv\")"
   ]
  },
  {
   "cell_type": "code",
   "execution_count": 3,
   "id": "f754d8eb",
   "metadata": {},
   "outputs": [],
   "source": [
    "movies.head()"
   ]
  },
  {
   "cell_type": "code",
   "execution_count": 4,
   "id": "b7df2054",
   "metadata": {},
   "outputs": [],
   "source": [
    "credits.head()"
   ]
  },
  {
   "cell_type": "code",
   "execution_count": 5,
   "id": "63ed25f6",
   "metadata": {},
   "outputs": [],
   "source": [
    "#credits.head(1)['cast'].values"
   ]
  },
  {
   "cell_type": "markdown",
   "id": "b784fbc4",
   "metadata": {},
   "source": [
    "### Merge both the datasets"
   ]
  },
  {
   "cell_type": "code",
   "execution_count": 6,
   "id": "a66547ef",
   "metadata": {},
   "outputs": [],
   "source": [
    "movies = movies.merge(credits, on = 'title')"
   ]
  },
  {
   "cell_type": "code",
   "execution_count": 7,
   "id": "d1349161",
   "metadata": {},
   "outputs": [],
   "source": [
    "movies.shape"
   ]
  },
  {
   "cell_type": "code",
   "execution_count": 8,
   "id": "d1155cc1",
   "metadata": {},
   "outputs": [],
   "source": [
    "movies.head(1)"
   ]
  },
  {
   "cell_type": "code",
   "execution_count": 9,
   "id": "33089d8c",
   "metadata": {},
   "outputs": [],
   "source": [
    "# genres\n",
    "# id\n",
    "# keywords\n",
    "# title\n",
    "# overview\n",
    "# cast\n",
    "#crew\n",
    "\n",
    "movies= movies[['id','genres','keywords','title','overview','cast','crew']]\n",
    "movies"
   ]
  },
  {
   "cell_type": "code",
   "execution_count": 10,
   "id": "317d3340",
   "metadata": {},
   "outputs": [],
   "source": [
    "movies.isnull().sum()"
   ]
  },
  {
   "cell_type": "code",
   "execution_count": 11,
   "id": "8be7b535",
   "metadata": {},
   "outputs": [],
   "source": [
    "movies.dropna(inplace=True)"
   ]
  },
  {
   "cell_type": "code",
   "execution_count": 12,
   "id": "a07538c2",
   "metadata": {},
   "outputs": [],
   "source": [
    "movies.duplicated().sum()"
   ]
  },
  {
   "cell_type": "code",
   "execution_count": 13,
   "id": "1372b6f5",
   "metadata": {},
   "outputs": [],
   "source": [
    "movies.iloc[0].genres"
   ]
  },
  {
   "cell_type": "code",
   "execution_count": 14,
   "id": "054b036f",
   "metadata": {},
   "outputs": [],
   "source": [
    "import ast\n",
    "\n",
    "def convert(obj):\n",
    "    L = []\n",
    "    for i in ast.literal_eval(obj):\n",
    "        L.append(i[\"name\"])\n",
    "    return L"
   ]
  },
  {
   "cell_type": "code",
   "execution_count": 15,
   "id": "377c418f",
   "metadata": {},
   "outputs": [],
   "source": [
    "movies['genres']=movies['genres'].apply(convert)"
   ]
  },
  {
   "cell_type": "code",
   "execution_count": 16,
   "id": "b6d9e67e",
   "metadata": {},
   "outputs": [],
   "source": [
    "movies.head()"
   ]
  },
  {
   "cell_type": "code",
   "execution_count": 17,
   "id": "173c44a1",
   "metadata": {},
   "outputs": [],
   "source": [
    "movies['keywords']=movies['keywords'].apply(convert)"
   ]
  },
  {
   "cell_type": "code",
   "execution_count": 18,
   "id": "9a3bec12",
   "metadata": {},
   "outputs": [],
   "source": [
    "movies.head()"
   ]
  },
  {
   "cell_type": "code",
   "execution_count": 19,
   "id": "a60ae871",
   "metadata": {},
   "outputs": [],
   "source": [
    "def convert3(obj):\n",
    "    L= []\n",
    "    counter = 0;\n",
    "    for i in ast.literal_eval(obj):\n",
    "        if counter<3:\n",
    "            L.append(i['name'])\n",
    "            counter+=1\n",
    "        else:\n",
    "            break\n",
    "    return L        "
   ]
  },
  {
   "cell_type": "code",
   "execution_count": 20,
   "id": "079a972c",
   "metadata": {},
   "outputs": [],
   "source": [
    "movies['cast'] = movies['cast'].apply(convert3)"
   ]
  },
  {
   "cell_type": "code",
   "execution_count": 21,
   "id": "4ba88239",
   "metadata": {},
   "outputs": [],
   "source": [
    "movies.head()"
   ]
  },
  {
   "cell_type": "code",
   "execution_count": 22,
   "id": "6b7ca5f9",
   "metadata": {},
   "outputs": [],
   "source": [
    "def fetch_director(obj):\n",
    "    L = []\n",
    "    for i in ast.literal_eval(obj):\n",
    "        if i['job'] == 'Director':\n",
    "            L.append(i['name'])\n",
    "            break\n",
    "    return L       \n",
    "        "
   ]
  },
  {
   "cell_type": "code",
   "execution_count": 23,
   "id": "8c010b5a",
   "metadata": {},
   "outputs": [],
   "source": [
    "movies['crew']=movies['crew'].apply(fetch_director)"
   ]
  },
  {
   "cell_type": "code",
   "execution_count": 24,
   "id": "66e3d639",
   "metadata": {},
   "outputs": [],
   "source": [
    "movies.head()"
   ]
  },
  {
   "cell_type": "code",
   "execution_count": 25,
   "id": "dfd653bb",
   "metadata": {},
   "outputs": [],
   "source": [
    "movies['overview'][0]"
   ]
  },
  {
   "cell_type": "code",
   "execution_count": 26,
   "id": "a86eed55",
   "metadata": {},
   "outputs": [],
   "source": [
    "movies['overview']=movies['overview'].apply(lambda x:x.split())"
   ]
  },
  {
   "cell_type": "code",
   "execution_count": 27,
   "id": "a29c07ce",
   "metadata": {},
   "outputs": [],
   "source": [
    "movies.head()"
   ]
  },
  {
   "cell_type": "code",
   "execution_count": 28,
   "id": "b3d31f54",
   "metadata": {},
   "outputs": [],
   "source": [
    "movies['genres']=movies['genres'].apply(lambda x:[i.replace(\" \",\"\") for i in x])\n",
    "movies['keywords']=movies['keywords'].apply(lambda x:[i.replace(\" \",\"\") for i in x])\n",
    "movies['cast']=movies['cast'].apply(lambda x:[i.replace(\" \",\"\") for i in x])\n",
    "movies['crew']=movies['crew'].apply(lambda x:[i.replace(\" \",\"\") for i in x])"
   ]
  },
  {
   "cell_type": "code",
   "execution_count": 29,
   "id": "01dd78f3",
   "metadata": {},
   "outputs": [],
   "source": [
    "movies.head()"
   ]
  },
  {
   "cell_type": "code",
   "execution_count": 30,
   "id": "98cd2bbd",
   "metadata": {},
   "outputs": [],
   "source": [
    "movies['tag'] = movies['overview']+movies['genres']+movies['keywords']+movies['cast']+movies['crew']"
   ]
  },
  {
   "cell_type": "code",
   "execution_count": 31,
   "id": "4bbe4b8f",
   "metadata": {},
   "outputs": [],
   "source": [
    "movies.head()"
   ]
  },
  {
   "cell_type": "code",
   "execution_count": 32,
   "id": "d504bdc9",
   "metadata": {},
   "outputs": [],
   "source": [
    "new_df = movies[['id','title','tag']]"
   ]
  },
  {
   "cell_type": "code",
   "execution_count": 33,
   "id": "56d72809",
   "metadata": {},
   "outputs": [],
   "source": [
    "new_df"
   ]
  },
  {
   "cell_type": "code",
   "execution_count": 34,
   "id": "780c8b78",
   "metadata": {},
   "outputs": [],
   "source": [
    "new_df['tag']=new_df['tag'].apply(lambda x: \" \".join(x))"
   ]
  },
  {
   "cell_type": "code",
   "execution_count": 35,
   "id": "75ea7ee8",
   "metadata": {},
   "outputs": [],
   "source": [
    "new_df.head()"
   ]
  },
  {
   "cell_type": "code",
   "execution_count": 36,
   "id": "847debac",
   "metadata": {},
   "outputs": [],
   "source": [
    "new_df['tag'][0]"
   ]
  },
  {
   "cell_type": "code",
   "execution_count": 37,
   "id": "db46c99e",
   "metadata": {},
   "outputs": [],
   "source": [
    "new_df['tag']= new_df['tag'].apply(lambda x:x.lower())"
   ]
  },
  {
   "cell_type": "code",
   "execution_count": 38,
   "id": "8ec1826a",
   "metadata": {},
   "outputs": [],
   "source": [
    "new_df['tag'][0]"
   ]
  },
  {
   "cell_type": "code",
   "execution_count": 39,
   "id": "0a9f566c",
   "metadata": {},
   "outputs": [],
   "source": [
    "from sklearn.feature_extraction.text import CountVectorizer\n",
    "cv = CountVectorizer(max_features=5000, stop_words='english')"
   ]
  },
  {
   "cell_type": "code",
   "execution_count": 40,
   "id": "c0ef27a7",
   "metadata": {},
   "outputs": [],
   "source": [
    "vector = cv.fit_transform(new_df['tag']).toarray()"
   ]
  },
  {
   "cell_type": "code",
   "execution_count": 41,
   "id": "24846019",
   "metadata": {},
   "outputs": [],
   "source": [
    "vector[0]"
   ]
  },
  {
   "cell_type": "code",
   "execution_count": 42,
   "id": "09663dec",
   "metadata": {},
   "outputs": [],
   "source": [
    "cv.get_feature_names()  # the string which you get by joining this tags is called corpus"
   ]
  },
  {
   "cell_type": "code",
   "execution_count": null,
   "id": "3e179739",
   "metadata": {},
   "outputs": [],
   "source": [
    "!pip install nltk"
   ]
  },
  {
   "cell_type": "code",
   "execution_count": null,
   "id": "e67e155d",
   "metadata": {},
   "outputs": [],
   "source": [
    "import nltk # natural language processing library "
   ]
  },
  {
   "cell_type": "code",
   "execution_count": null,
   "id": "b230a775",
   "metadata": {},
   "outputs": [],
   "source": [
    "from nltk.stem.porter import PorterStemmer  #it stems the word to its basic form \n",
    "ps = PorterStemmer()"
   ]
  },
  {
   "cell_type": "code",
   "execution_count": null,
   "id": "95bf3f4f",
   "metadata": {},
   "outputs": [],
   "source": [
    "def stem(text):\n",
    "    y = []\n",
    "    for i in text.split():\n",
    "        y.append(ps.stem(i)) #gives output as list\n",
    "        \n",
    "    return \" \".join(y)                # for converting the list into string again   "
   ]
  },
  {
   "cell_type": "code",
   "execution_count": null,
   "id": "336d2e36",
   "metadata": {},
   "outputs": [],
   "source": [
    "stem('danced')"
   ]
  },
  {
   "cell_type": "code",
   "execution_count": null,
   "id": "beb8758f",
   "metadata": {},
   "outputs": [],
   "source": [
    "new_df['tag']=new_df['tag'].apply(stem)"
   ]
  },
  {
   "cell_type": "code",
   "execution_count": null,
   "id": "2a9c8615",
   "metadata": {},
   "outputs": [],
   "source": [
    "new_df['tag'][0]"
   ]
  },
  {
   "cell_type": "code",
   "execution_count": null,
   "id": "67c91e51",
   "metadata": {},
   "outputs": [],
   "source": [
    "new_df['tag'][1]"
   ]
  },
  {
   "cell_type": "code",
   "execution_count": null,
   "id": "dc22fd77",
   "metadata": {},
   "outputs": [],
   "source": [
    "from sklearn.metrics.pairwise import cosine_similarity\n",
    "\n",
    "\n",
    "#this calculates the angle between two vectors and if the angle is less than the two vectors(movies) are more likely\n",
    "# to be near to each other "
   ]
  },
  {
   "cell_type": "code",
   "execution_count": null,
   "id": "862e2981",
   "metadata": {},
   "outputs": [],
   "source": [
    "similarity = cosine_similarity(vector)"
   ]
  },
  {
   "cell_type": "code",
   "execution_count": null,
   "id": "b07041e3",
   "metadata": {},
   "outputs": [],
   "source": [
    "similarity"
   ]
  },
  {
   "cell_type": "code",
   "execution_count": null,
   "id": "d7854684",
   "metadata": {},
   "outputs": [],
   "source": [
    "similarity[0]\n",
    "\n",
    "# here similarity of forst movie with first is always 1 \n",
    "# it will always be a diagonally containing 1 matrix"
   ]
  },
  {
   "cell_type": "code",
   "execution_count": null,
   "id": "a8ff0c72",
   "metadata": {},
   "outputs": [],
   "source": [
    "#sorted(similarity[0]) # this will sort the indexex but we will not get exactly serial order of first movie is compared \n",
    "                      # with which movie , i.e indexex will get mixed previously it was 1st with 1st, 1st with 2nd and so on\n",
    "\n",
    "#enumerate(similarity[0]) # converts list into tuple\n",
    " \n",
    "#sorted(list(enumerate(similarity[0])),reverse = True)  # this sorts on basis of first number\n",
    "    \n",
    "sorted(list(enumerate(similarity[0])),reverse = True,key = lambda x:x[1])\n",
    "\n"
   ]
  },
  {
   "cell_type": "code",
   "execution_count": null,
   "id": "815cb658",
   "metadata": {},
   "outputs": [],
   "source": [
    "new_df[new_df['title']=='Avatar'].index[0]       # this is the way of getting index "
   ]
  },
  {
   "cell_type": "code",
   "execution_count": null,
   "id": "95ef38d6",
   "metadata": {},
   "outputs": [],
   "source": [
    "def recommend(movie):\n",
    "    movie_index = new_df[new_df['title']==movie].index[0] \n",
    "    distances = similarity[movie_index]\n",
    "    movie_list = sorted(list(enumerate(distances)),reverse = True,key = lambda x:x[1])[1:6]\n",
    "    \n",
    "    for i in movie_list:\n",
    "        print(new_df.iloc[i[0]]['title'])\n",
    "        \n",
    "    "
   ]
  },
  {
   "cell_type": "code",
   "execution_count": null,
   "id": "bb7d789e",
   "metadata": {},
   "outputs": [],
   "source": []
  },
  {
   "cell_type": "code",
   "execution_count": null,
   "id": "374cb851",
   "metadata": {},
   "outputs": [],
   "source": [
    "new_df.iloc[1216]['title']  # this will give you th title of the movie"
   ]
  },
  {
   "cell_type": "code",
   "execution_count": null,
   "id": "5eff2fe6",
   "metadata": {},
   "outputs": [],
   "source": [
    "recommend('Avatar')"
   ]
  },
  {
   "cell_type": "code",
   "execution_count": null,
   "id": "7d16c92a",
   "metadata": {},
   "outputs": [],
   "source": [
    "recommend(\"Pirates of the Caribbean: At World's End\")"
   ]
  },
  {
   "cell_type": "code",
   "execution_count": null,
   "id": "91e4d754",
   "metadata": {},
   "outputs": [],
   "source": [
    "recommend(\"Spectre\")"
   ]
  },
  {
   "cell_type": "code",
   "execution_count": null,
   "id": "426616e4",
   "metadata": {},
   "outputs": [],
   "source": [
    "import pickle"
   ]
  },
  {
   "cell_type": "code",
   "execution_count": null,
   "id": "9d1f0f3c",
   "metadata": {},
   "outputs": [],
   "source": [
    "pickle.dump(new_df.to_dict(),open('movies_dict.pkl','wb'))"
   ]
  },
  {
   "cell_type": "code",
   "execution_count": null,
   "id": "e341594d",
   "metadata": {},
   "outputs": [],
   "source": [
    "pickle.dump(similarity,open('similarity.pkl','wb'))"
   ]
  },
  {
   "cell_type": "code",
   "execution_count": null,
   "id": "3d1e00f9",
   "metadata": {},
   "outputs": [],
   "source": [
    "movie_id = movies.iloc[new_df[0]].movie_id"
   ]
  },
  {
   "cell_type": "code",
   "execution_count": null,
   "id": "f89b1749",
   "metadata": {},
   "outputs": [],
   "source": []
  }
 ],
 "metadata": {
  "kernelspec": {
   "display_name": "Python 3 (ipykernel)",
   "language": "python",
   "name": "python3"
  },
  "language_info": {
   "codemirror_mode": {
    "name": "ipython",
    "version": 3
   },
   "file_extension": ".py",
   "mimetype": "text/x-python",
   "name": "python",
   "nbconvert_exporter": "python",
   "pygments_lexer": "ipython3",
   "version": "3.11.3"
  }
 },
 "nbformat": 4,
 "nbformat_minor": 5
}
